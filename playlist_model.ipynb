{
 "cells": [
  {
   "cell_type": "code",
   "execution_count": 8,
   "id": "6355b8c4",
   "metadata": {},
   "outputs": [],
   "source": [
    "import numpy as np\n",
    "import pandas as pd\n",
    "import os\n"
   ]
  },
  {
   "cell_type": "code",
   "execution_count": null,
   "id": "f9ba2e31",
   "metadata": {},
   "outputs": [],
   "source": [
    "cwd=os.getcwd()\n",
    "full_path=os.path.join(cwd,\"song_list_finished.csv\")\n",
    "df_orig = pd.read_csv(full_path, delimiter=\"|\", encoding='utf-8')\n",
    "df_orig.head()"
   ]
  },
  {
   "cell_type": "code",
   "execution_count": null,
   "id": "2fead40b",
   "metadata": {},
   "outputs": [],
   "source": [
    "\n",
    "df=df_orig\n",
    "df =df.drop(columns=['song_id','artist_id','genres'])\n",
    "df=df.dropna()\n",
    "col=df.columns\n",
    "row = list(col)\n",
    "features= row[3:]\n",
    "print(features)\n",
    "#features = ['danceability',\t'energy',\t'acousticness',\t'instrumentalness',\t'valence',\t'speechiness',\t'loudness',\t'liveness']\n",
    "\n"
   ]
  },
  {
   "cell_type": "code",
   "execution_count": null,
   "id": "d653693e",
   "metadata": {},
   "outputs": [],
   "source": [
    "import matplotlib.pyplot as plt\n",
    "import seaborn as s\n",
    "x=df[features]\n",
    "\n",
    "corr= x.corr()\n",
    "plt.figure(figsize=(10,8))\n",
    "s.heatmap(corr,annot=True,cmap='coolwarm',center=0,square=True,fmt='.2f')\n",
    "plt.title(\"Heat map of features\")\n",
    "plt.show()\n"
   ]
  },
  {
   "cell_type": "code",
   "execution_count": null,
   "id": "94eef564",
   "metadata": {},
   "outputs": [],
   "source": [
    "df[\"energy-by-loud\"]= (df['loudness']*df['energy'])\n",
    "df['mood-by-energy'] = (df['valence']*df['energy'])\n",
    "df['energy-by-speechiness'] = (df['energy']*df['speechiness'])\n",
    "df['mood-by-dance'] = (df['valence']*df['danceability'])\n",
    "df['live-by-loud'] = (df['loudness']*df['liveness'])\n",
    "df['acousticness-by-energy'] = df['acousticness']*df['energy']\n",
    "df['acousticness-by-loudness'] = df['acousticness']*df['loudness']\n",
    "df=df.drop(columns=['valence','instrumentalness','liveness','speechiness','danceability','loudness'])\n",
    "features=list(df.columns)\n",
    "features=features[3:]\n",
    "x=df[features]\n",
    "\n",
    "corr= x.corr()\n",
    "print(features)\n",
    "print(corr.round(2))\n",
    "plt.figure(figsize=(10,8))\n",
    "s.heatmap(corr,annot=True,cmap='coolwarm',center=0,square=True,fmt='.2f')\n",
    "plt.title(\"Heat map of features\")\n",
    "plt.show()\n",
    "\n",
    "\n",
    "\n"
   ]
  },
  {
   "cell_type": "code",
   "execution_count": null,
   "id": "0946ef4e",
   "metadata": {},
   "outputs": [],
   "source": []
  },
  {
   "cell_type": "code",
   "execution_count": null,
   "id": "5c092d96",
   "metadata": {},
   "outputs": [],
   "source": [
    "from sklearn.decomposition import PCA\n",
    "from sklearn.preprocessing import StandardScaler\n",
    "\n",
    "scaler = StandardScaler()\n",
    "X_scaled = scaler.fit_transform(x)\n",
    "\n",
    "pca = PCA(n_components=6)\n",
    "pca.fit(X_scaled)\n",
    "var=pca.explained_variance_ratio_.round(3)\n",
    "sum=0\n",
    "for f in var:\n",
    "    sum+=f\n",
    "print(f'Variance total: {sum}')\n",
    "print(pca.explained_variance_ratio_.round(3))\n",
    "plt.plot(np.cumsum(pca.explained_variance_ratio_))\n",
    "plt.xlabel('Number of Features')\n",
    "plt.ylabel('Cumulative Explained Variance')\n",
    "plt.title('PCA Feature Contribution')\n",
    "plt.show()"
   ]
  },
  {
   "cell_type": "code",
   "execution_count": null,
   "id": "9db7dd05",
   "metadata": {},
   "outputs": [
    {
     "ename": "",
     "evalue": "",
     "output_type": "error",
     "traceback": [
      "\u001b[1;31mThe Kernel crashed while executing code in the current cell or a previous cell. \n",
      "\u001b[1;31mPlease review the code in the cell(s) to identify a possible cause of the failure. \n",
      "\u001b[1;31mClick <a href='https://aka.ms/vscodeJupyterKernelCrash'>here</a> for more info. \n",
      "\u001b[1;31mView Jupyter <a href='command:jupyter.viewOutput'>log</a> for further details."
     ]
    }
   ],
   "source": [
    "from sklearn.neighbors import NearestNeighbors\n",
    "\n",
    "# Initialize KNN (you can experiment with metric too: 'cosine', 'euclidean', etc.)\n",
    "knn = NearestNeighbors(n_neighbors=6, metric='cosine')  # 6 = 5 neighbors + the input song itself\n",
    "knn.fit(X_scaled)"
   ]
  }
 ],
 "metadata": {
  "kernelspec": {
   "display_name": "Python 3",
   "language": "python",
   "name": "python3"
  },
  "language_info": {
   "codemirror_mode": {
    "name": "ipython",
    "version": 3
   },
   "file_extension": ".py",
   "mimetype": "text/x-python",
   "name": "python",
   "nbconvert_exporter": "python",
   "pygments_lexer": "ipython3",
   "version": "3.10.1"
  }
 },
 "nbformat": 4,
 "nbformat_minor": 5
}
